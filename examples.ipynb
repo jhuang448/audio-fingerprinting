{
 "cells": [
  {
   "cell_type": "code",
   "execution_count": 1,
   "id": "ambient-tyler",
   "metadata": {},
   "outputs": [],
   "source": [
    "%load_ext autoreload\n",
    "%autoreload 2"
   ]
  },
  {
   "cell_type": "code",
   "execution_count": 2,
   "id": "laughing-norman",
   "metadata": {},
   "outputs": [],
   "source": [
    "# paths\n",
    "database_path = \"../db/\" # \"../database_recordings/\"\n",
    "query_path = \"../query/\" # \"../query_recordings/\"\n",
    "fingerprint_path = \"./fingerprints/\""
   ]
  },
  {
   "cell_type": "code",
   "execution_count": 3,
   "id": "olympic-field",
   "metadata": {},
   "outputs": [],
   "source": [
    "import os, logging\n",
    "from fingerprint import FingerprintDB, AudioFingerprint\n",
    "logging.basicConfig(level=logging.WARNING)"
   ]
  },
  {
   "cell_type": "code",
   "execution_count": 4,
   "id": "olive-familiar",
   "metadata": {},
   "outputs": [
    {
     "name": "stderr",
     "output_type": "stream",
     "text": [
      "11it [00:01,  5.69it/s]                        \n"
     ]
    }
   ],
   "source": [
    "FDB = FingerprintDB(database_path, fingerprint_path)"
   ]
  },
  {
   "cell_type": "code",
   "execution_count": 5,
   "id": "hungry-liability",
   "metadata": {},
   "outputs": [
    {
     "name": "stderr",
     "output_type": "stream",
     "text": [
      "11it [00:13,  1.23s/it]                        "
     ]
    },
    {
     "name": "stdout",
     "output_type": "stream",
     "text": [
      "Time elapsed: 13.505687952041626 secs\n",
      "Query: pop.00004-snippet-10-0.wav Best hit: pop.00004.wav at offset 0.896 secs.\n"
     ]
    },
    {
     "name": "stderr",
     "output_type": "stream",
     "text": [
      "\n"
     ]
    },
    {
     "data": {
      "text/plain": [
       "'pop.00004.wav'"
      ]
     },
     "execution_count": 5,
     "metadata": {},
     "output_type": "execute_result"
    }
   ],
   "source": [
    "FP_q = AudioFingerprint(os.path.join(query_path, \"pop.00004-snippet-10-0.wav\"), fingerprint_path, save=False)\n",
    "FDB.search(FP_q)"
   ]
  },
  {
   "cell_type": "code",
   "execution_count": null,
   "id": "behind-competition",
   "metadata": {},
   "outputs": [],
   "source": []
  }
 ],
 "metadata": {
  "kernelspec": {
   "display_name": "snake",
   "language": "python",
   "name": "snake"
  },
  "language_info": {
   "codemirror_mode": {
    "name": "ipython",
    "version": 3
   },
   "file_extension": ".py",
   "mimetype": "text/x-python",
   "name": "python",
   "nbconvert_exporter": "python",
   "pygments_lexer": "ipython3",
   "version": "3.7.2"
  }
 },
 "nbformat": 4,
 "nbformat_minor": 5
}
